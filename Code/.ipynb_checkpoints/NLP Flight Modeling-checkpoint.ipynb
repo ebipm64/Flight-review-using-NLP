{
 "cells": [
  {
   "cell_type": "code",
   "execution_count": 35,
   "metadata": {},
   "outputs": [],
   "source": [
    "import numpy as np\n",
    "import pandas as pd\n",
    "import seaborn as sns\n",
    "import matplotlib.pyplot as plt\n",
    "from sklearn.feature_extraction.text import CountVectorizer, TfidfVectorizer\n",
    "from sklearn.linear_model import LogisticRegression\n",
    "from sklearn.naive_bayes import MultinomialNB\n",
    "from sklearn.svm import SVC,LinearSVC\n",
    "from sklearn.ensemble import RandomForestClassifier, ExtraTreesClassifier\n",
    "from sklearn.ensemble import GradientBoostingClassifier, AdaBoostClassifier, VotingClassifier\n",
    "import pickle\n",
    "from sklearn.model_selection import train_test_split\n",
    "from sklearn.model_selection import GridSearchCV\n",
    "from sklearn.pipeline import Pipeline\n"
   ]
  },
  {
   "cell_type": "code",
   "execution_count": 2,
   "metadata": {},
   "outputs": [
    {
     "data": {
      "text/html": [
       "<div>\n",
       "<style scoped>\n",
       "    .dataframe tbody tr th:only-of-type {\n",
       "        vertical-align: middle;\n",
       "    }\n",
       "\n",
       "    .dataframe tbody tr th {\n",
       "        vertical-align: top;\n",
       "    }\n",
       "\n",
       "    .dataframe thead th {\n",
       "        text-align: right;\n",
       "    }\n",
       "</style>\n",
       "<table border=\"1\" class=\"dataframe\">\n",
       "  <thead>\n",
       "    <tr style=\"text-align: right;\">\n",
       "      <th></th>\n",
       "      <th>airline</th>\n",
       "      <th>retweet_count</th>\n",
       "      <th>text</th>\n",
       "      <th>tweet_created</th>\n",
       "      <th>word_count</th>\n",
       "      <th>airline_sentiment</th>\n",
       "      <th>air_target</th>\n",
       "    </tr>\n",
       "  </thead>\n",
       "  <tbody>\n",
       "    <tr>\n",
       "      <th>0</th>\n",
       "      <td>Virgin America</td>\n",
       "      <td>0</td>\n",
       "      <td>virginamerica dhepburn said</td>\n",
       "      <td>2015-02-24 11:35:52 -0800</td>\n",
       "      <td>3</td>\n",
       "      <td>neutral</td>\n",
       "      <td>0</td>\n",
       "    </tr>\n",
       "    <tr>\n",
       "      <th>1</th>\n",
       "      <td>Virgin America</td>\n",
       "      <td>0</td>\n",
       "      <td>virginamerica plus added commercials experienc...</td>\n",
       "      <td>2015-02-24 11:15:59 -0800</td>\n",
       "      <td>6</td>\n",
       "      <td>positive</td>\n",
       "      <td>1</td>\n",
       "    </tr>\n",
       "    <tr>\n",
       "      <th>2</th>\n",
       "      <td>Virgin America</td>\n",
       "      <td>0</td>\n",
       "      <td>virginamerica today must mean need take anothe...</td>\n",
       "      <td>2015-02-24 11:15:48 -0800</td>\n",
       "      <td>8</td>\n",
       "      <td>neutral</td>\n",
       "      <td>0</td>\n",
       "    </tr>\n",
       "    <tr>\n",
       "      <th>3</th>\n",
       "      <td>Virgin America</td>\n",
       "      <td>0</td>\n",
       "      <td>virginamerica really aggressive blast obnoxiou...</td>\n",
       "      <td>2015-02-24 11:15:36 -0800</td>\n",
       "      <td>11</td>\n",
       "      <td>negative</td>\n",
       "      <td>-1</td>\n",
       "    </tr>\n",
       "    <tr>\n",
       "      <th>4</th>\n",
       "      <td>Virgin America</td>\n",
       "      <td>0</td>\n",
       "      <td>virginamerica really big bad thing</td>\n",
       "      <td>2015-02-24 11:14:45 -0800</td>\n",
       "      <td>5</td>\n",
       "      <td>negative</td>\n",
       "      <td>-1</td>\n",
       "    </tr>\n",
       "  </tbody>\n",
       "</table>\n",
       "</div>"
      ],
      "text/plain": [
       "          airline  retweet_count  \\\n",
       "0  Virgin America              0   \n",
       "1  Virgin America              0   \n",
       "2  Virgin America              0   \n",
       "3  Virgin America              0   \n",
       "4  Virgin America              0   \n",
       "\n",
       "                                                text  \\\n",
       "0                        virginamerica dhepburn said   \n",
       "1  virginamerica plus added commercials experienc...   \n",
       "2  virginamerica today must mean need take anothe...   \n",
       "3  virginamerica really aggressive blast obnoxiou...   \n",
       "4                 virginamerica really big bad thing   \n",
       "\n",
       "               tweet_created  word_count airline_sentiment  air_target  \n",
       "0  2015-02-24 11:35:52 -0800           3           neutral           0  \n",
       "1  2015-02-24 11:15:59 -0800           6          positive           1  \n",
       "2  2015-02-24 11:15:48 -0800           8           neutral           0  \n",
       "3  2015-02-24 11:15:36 -0800          11          negative          -1  \n",
       "4  2015-02-24 11:14:45 -0800           5          negative          -1  "
      ]
     },
     "execution_count": 2,
     "metadata": {},
     "output_type": "execute_result"
    }
   ],
   "source": [
    "df = pickle.load(open('../Data/df_pre_model', 'rb'))\n",
    "df.head()"
   ]
  },
  {
   "cell_type": "code",
   "execution_count": 3,
   "metadata": {},
   "outputs": [],
   "source": [
    "X = df['text']\n",
    "y = df['airline_sentiment']"
   ]
  },
  {
   "cell_type": "code",
   "execution_count": 4,
   "metadata": {},
   "outputs": [],
   "source": [
    "X_train, X_test, y_train, y_test = train_test_split(X, y, test_size=0.25, random_state=101)"
   ]
  },
  {
   "cell_type": "code",
   "execution_count": null,
   "metadata": {},
   "outputs": [],
   "source": []
  },
  {
   "cell_type": "code",
   "execution_count": 37,
   "metadata": {},
   "outputs": [],
   "source": [
    "pipe = Pipeline([('cv',CountVectorizer()),('logmodel',LogisticRegression(max_iter=1000))])"
   ]
  },
  {
   "cell_type": "code",
   "execution_count": 38,
   "metadata": {},
   "outputs": [],
   "source": [
    "param_grid = {'cv__stop_words':['english'],'cv__max_df':[0.5,.75,1.0],'cv__min_df':[1,2],\n",
    "              'cv__max_features':[2000,3000]\n",
    "              ,'logmodel__solver' : ['newton-cg', 'lbfgs', 'saga']}"
   ]
  },
  {
   "cell_type": "code",
   "execution_count": null,
   "metadata": {},
   "outputs": [],
   "source": []
  },
  {
   "cell_type": "code",
   "execution_count": 39,
   "metadata": {},
   "outputs": [],
   "source": [
    "grd_log = GridSearchCV(pipe,param_grid=param_grid,cv=3)"
   ]
  },
  {
   "cell_type": "code",
   "execution_count": 40,
   "metadata": {},
   "outputs": [
    {
     "data": {
      "text/plain": [
       "GridSearchCV(cv=3,\n",
       "             estimator=Pipeline(steps=[('cv', CountVectorizer()),\n",
       "                                       ('logmodel',\n",
       "                                        LogisticRegression(max_iter=1000))]),\n",
       "             param_grid={'cv__max_df': [0.5, 0.75, 1.0],\n",
       "                         'cv__max_features': [2000, 3000], 'cv__min_df': [1, 2],\n",
       "                         'cv__stop_words': ['english'],\n",
       "                         'logmodel__solver': ['newton-cg', 'lbfgs', 'saga']})"
      ]
     },
     "execution_count": 40,
     "metadata": {},
     "output_type": "execute_result"
    }
   ],
   "source": [
    "grd_log.fit(X_train,y_train)"
   ]
  },
  {
   "cell_type": "code",
   "execution_count": 41,
   "metadata": {},
   "outputs": [
    {
     "data": {
      "text/plain": [
       "{'cv__max_df': 0.5,\n",
       " 'cv__max_features': 3000,\n",
       " 'cv__min_df': 2,\n",
       " 'cv__stop_words': 'english',\n",
       " 'logmodel__solver': 'saga'}"
      ]
     },
     "execution_count": 41,
     "metadata": {},
     "output_type": "execute_result"
    }
   ],
   "source": [
    "grd_log.best_params_"
   ]
  },
  {
   "cell_type": "code",
   "execution_count": 42,
   "metadata": {},
   "outputs": [],
   "source": [
    "prd_log = grd_log.predict(X_test)"
   ]
  },
  {
   "cell_type": "code",
   "execution_count": 100,
   "metadata": {},
   "outputs": [],
   "source": [
    "from sklearn.metrics import classification_report,plot_confusion_matrix,accuracy_score,confusion_matrix,ConfusionMatrixDisplay"
   ]
  },
  {
   "cell_type": "code",
   "execution_count": 53,
   "metadata": {},
   "outputs": [
    {
     "name": "stdout",
     "output_type": "stream",
     "text": [
      "Classificaion Report    \n",
      "               precision    recall  f1-score   support\n",
      "\n",
      "    negative       0.84      0.88      0.86      2273\n",
      "     neutral       0.59      0.54      0.57       786\n",
      "    positive       0.73      0.65      0.69       601\n",
      "\n",
      "    accuracy                           0.77      3660\n",
      "   macro avg       0.72      0.69      0.70      3660\n",
      "weighted avg       0.77      0.77      0.77      3660\n",
      "\n"
     ]
    }
   ],
   "source": [
    "print('Classificaion Report    \\n',classification_report(y_test,prd_log))"
   ]
  },
  {
   "cell_type": "markdown",
   "metadata": {},
   "source": [
    "# SVC Model"
   ]
  },
  {
   "cell_type": "code",
   "execution_count": 13,
   "metadata": {},
   "outputs": [],
   "source": [
    "cv = CountVectorizer(max_features=3000,max_df=.5,min_df=2,stop_words='english')\n",
    "X_feat_train = cv.fit_transform(X_train)\n",
    "X_feat_test = cv.transform(X_test)"
   ]
  },
  {
   "cell_type": "code",
   "execution_count": 28,
   "metadata": {},
   "outputs": [],
   "source": [
    "svc = SVC()"
   ]
  },
  {
   "cell_type": "code",
   "execution_count": 29,
   "metadata": {},
   "outputs": [
    {
     "data": {
      "text/plain": [
       "SVC()"
      ]
     },
     "execution_count": 29,
     "metadata": {},
     "output_type": "execute_result"
    }
   ],
   "source": [
    "svc.fit(X_feat_train,y_train)"
   ]
  },
  {
   "cell_type": "code",
   "execution_count": 30,
   "metadata": {},
   "outputs": [],
   "source": [
    "prd_svc = svc.predict(X_feat_test)"
   ]
  },
  {
   "cell_type": "code",
   "execution_count": 31,
   "metadata": {},
   "outputs": [
    {
     "name": "stdout",
     "output_type": "stream",
     "text": [
      "Classificaion Report    \n",
      "               precision    recall  f1-score   support\n",
      "\n",
      "    negative       0.79      0.93      0.86      2273\n",
      "     neutral       0.64      0.42      0.51       786\n",
      "    positive       0.76      0.59      0.66       601\n",
      "\n",
      "    accuracy                           0.77      3660\n",
      "   macro avg       0.73      0.65      0.68      3660\n",
      "weighted avg       0.75      0.77      0.75      3660\n",
      "\n"
     ]
    }
   ],
   "source": [
    "print('Classificaion Report    \\n',classification_report(y_test,prd_svc))"
   ]
  },
  {
   "cell_type": "code",
   "execution_count": 33,
   "metadata": {},
   "outputs": [
    {
     "data": {
      "text/plain": [
       "<sklearn.metrics._plot.confusion_matrix.ConfusionMatrixDisplay at 0x27a2b288488>"
      ]
     },
     "execution_count": 33,
     "metadata": {},
     "output_type": "execute_result"
    },
    {
     "data": {
      "image/png": "[encoded data removed]",
      "text/plain": [
       "<Figure size 432x288 with 2 Axes>"
      ]
     },
     "metadata": {
      "needs_background": "light"
     },
     "output_type": "display_data"
    }
   ],
   "source": [
    "plot_confusion_matrix(svc,X_feat_test,y_test)"
   ]
  },
  {
   "cell_type": "markdown",
   "metadata": {},
   "source": [
    "# Linear SVC using Countvectorizer "
   ]
  },
  {
   "cell_type": "code",
   "execution_count": 38,
   "metadata": {},
   "outputs": [],
   "source": [
    "lr_svc = LinearSVC()"
   ]
  },
  {
   "cell_type": "code",
   "execution_count": 39,
   "metadata": {},
   "outputs": [
    {
     "data": {
      "text/plain": [
       "LinearSVC()"
      ]
     },
     "execution_count": 39,
     "metadata": {},
     "output_type": "execute_result"
    }
   ],
   "source": [
    "lr_svc.fit(X_feat_train,y_train)"
   ]
  },
  {
   "cell_type": "code",
   "execution_count": 40,
   "metadata": {},
   "outputs": [],
   "source": [
    "prd_lr_svc = lr_svc.predict(X_feat_test)"
   ]
  },
  {
   "cell_type": "code",
   "execution_count": 41,
   "metadata": {},
   "outputs": [
    {
     "name": "stdout",
     "output_type": "stream",
     "text": [
      "Classificaion Report    \n",
      "               precision    recall  f1-score   support\n",
      "\n",
      "    negative       0.84      0.86      0.85      2273\n",
      "     neutral       0.56      0.54      0.55       786\n",
      "    positive       0.69      0.65      0.67       601\n",
      "\n",
      "    accuracy                           0.76      3660\n",
      "   macro avg       0.69      0.68      0.69      3660\n",
      "weighted avg       0.75      0.76      0.75      3660\n",
      "\n"
     ]
    },
    {
     "data": {
      "text/plain": [
       "<sklearn.metrics._plot.confusion_matrix.ConfusionMatrixDisplay at 0x27a2b2cda48>"
      ]
     },
     "execution_count": 41,
     "metadata": {},
     "output_type": "execute_result"
    },
    {
     "data": {
      "image/png": "[encoded data removed]",
      "text/plain": [
       "<Figure size 432x288 with 2 Axes>"
      ]
     },
     "metadata": {
      "needs_background": "light"
     },
     "output_type": "display_data"
    }
   ],
   "source": [
    "print('Classificaion Report    \\n',classification_report(y_test,prd_lr_svc))\n",
    "plot_confusion_matrix(svc,X_feat_test,y_test)"
   ]
  },
  {
   "cell_type": "markdown",
   "metadata": {},
   "source": [
    "# Naive Base Model"
   ]
  },
  {
   "cell_type": "code",
   "execution_count": 46,
   "metadata": {},
   "outputs": [],
   "source": [
    "pipe = Pipeline([('cv',CountVectorizer()),('nb',MultinomialNB())])"
   ]
  },
  {
   "cell_type": "code",
   "execution_count": 47,
   "metadata": {},
   "outputs": [],
   "source": [
    "param_grid = {'cv__stop_words':['english'],'cv__max_df':[0.5,0.75,1.0],'cv__min_df':[1,2],\n",
    "              'cv__max_features':[2000,3000]}"
   ]
  },
  {
   "cell_type": "code",
   "execution_count": 48,
   "metadata": {},
   "outputs": [],
   "source": [
    "grd_nb = GridSearchCV(pipe,param_grid=param_grid,cv=3)"
   ]
  },
  {
   "cell_type": "code",
   "execution_count": 49,
   "metadata": {},
   "outputs": [
    {
     "data": {
      "text/plain": [
       "GridSearchCV(cv=3,\n",
       "             estimator=Pipeline(steps=[('cv', CountVectorizer()),\n",
       "                                       ('nb', MultinomialNB())]),\n",
       "             param_grid={'cv__max_df': [0.5, 0.75, 1.0],\n",
       "                         'cv__max_features': [2000, 3000], 'cv__min_df': [1, 2],\n",
       "                         'cv__stop_words': ['english']})"
      ]
     },
     "execution_count": 49,
     "metadata": {},
     "output_type": "execute_result"
    }
   ],
   "source": [
    "grd_nb.fit(X_train,y_train)"
   ]
  },
  {
   "cell_type": "code",
   "execution_count": 50,
   "metadata": {},
   "outputs": [
    {
     "data": {
      "text/plain": [
       "{'cv__max_df': 0.5,\n",
       " 'cv__max_features': 2000,\n",
       " 'cv__min_df': 2,\n",
       " 'cv__stop_words': 'english'}"
      ]
     },
     "execution_count": 50,
     "metadata": {},
     "output_type": "execute_result"
    }
   ],
   "source": [
    "grd_nb.best_params_"
   ]
  },
  {
   "cell_type": "code",
   "execution_count": 52,
   "metadata": {},
   "outputs": [],
   "source": [
    "prd_grd_nb = grd_nb.predict(X_test)"
   ]
  },
  {
   "cell_type": "code",
   "execution_count": 54,
   "metadata": {},
   "outputs": [
    {
     "name": "stdout",
     "output_type": "stream",
     "text": [
      "Classificaion Report    \n",
      "               precision    recall  f1-score   support\n",
      "\n",
      "    negative       0.83      0.88      0.85      2273\n",
      "     neutral       0.61      0.51      0.55       786\n",
      "    positive       0.70      0.67      0.69       601\n",
      "\n",
      "    accuracy                           0.77      3660\n",
      "   macro avg       0.71      0.69      0.70      3660\n",
      "weighted avg       0.76      0.77      0.76      3660\n",
      "\n"
     ]
    },
    {
     "data": {
      "text/plain": [
       "<sklearn.metrics._plot.confusion_matrix.ConfusionMatrixDisplay at 0x27a2ba16288>"
      ]
     },
     "execution_count": 54,
     "metadata": {},
     "output_type": "execute_result"
    },
    {
     "data": {
      "image/png": "[encoded data removed]",
      "text/plain": [
       "<Figure size 432x288 with 2 Axes>"
      ]
     },
     "metadata": {
      "needs_background": "light"
     },
     "output_type": "display_data"
    }
   ],
   "source": [
    "print('Classificaion Report    \\n',classification_report(y_test,prd_grd_nb))\n",
    "plot_confusion_matrix(grd_nb,X_test,y_test)"
   ]
  },
  {
   "cell_type": "code",
   "execution_count": 57,
   "metadata": {},
   "outputs": [
    {
     "data": {
      "text/plain": [
       "0.7666666666666667"
      ]
     },
     "execution_count": 57,
     "metadata": {},
     "output_type": "execute_result"
    }
   ],
   "source": [
    "accuracy_score(y_test,prd_grd_nb)"
   ]
  },
  {
   "cell_type": "markdown",
   "metadata": {},
   "source": [
    "# RanodomForest Model"
   ]
  },
  {
   "cell_type": "code",
   "execution_count": 72,
   "metadata": {},
   "outputs": [],
   "source": [
    "pipe_tfidf  = Pipeline([('tfidf',TfidfVectorizer()),('nb',MultinomialNB())])"
   ]
  },
  {
   "cell_type": "code",
   "execution_count": 73,
   "metadata": {},
   "outputs": [
    {
     "data": {
      "text/plain": [
       "Pipeline(steps=[('tfidf', TfidfVectorizer()), ('nb', MultinomialNB())])"
      ]
     },
     "execution_count": 73,
     "metadata": {},
     "output_type": "execute_result"
    }
   ],
   "source": [
    "pipe_tfidf.fit(X_train,y_train)"
   ]
  },
  {
   "cell_type": "code",
   "execution_count": 74,
   "metadata": {},
   "outputs": [],
   "source": [
    "prd_NB_tfidf = pipe_tfidf.predict(X_test)"
   ]
  },
  {
   "cell_type": "code",
   "execution_count": 75,
   "metadata": {},
   "outputs": [
    {
     "name": "stdout",
     "output_type": "stream",
     "text": [
      "Classificaion Report    \n",
      "               precision    recall  f1-score   support\n",
      "\n",
      "    negative       0.66      0.99      0.79      2273\n",
      "     neutral       0.77      0.15      0.26       786\n",
      "    positive       0.86      0.13      0.22       601\n",
      "\n",
      "    accuracy                           0.67      3660\n",
      "   macro avg       0.77      0.42      0.42      3660\n",
      "weighted avg       0.72      0.67      0.58      3660\n",
      "\n"
     ]
    },
    {
     "data": {
      "text/plain": [
       "<sklearn.metrics._plot.confusion_matrix.ConfusionMatrixDisplay at 0x27a2b69fc08>"
      ]
     },
     "execution_count": 75,
     "metadata": {},
     "output_type": "execute_result"
    },
    {
     "data": {
      "image/png": "[encoded data removed]",
      "text/plain": [
       "<Figure size 432x288 with 2 Axes>"
      ]
     },
     "metadata": {
      "needs_background": "light"
     },
     "output_type": "display_data"
    }
   ],
   "source": [
    "print('Classificaion Report    \\n',classification_report(y_test,prd_NB_tfidf))\n",
    "plot_confusion_matrix(pipe_tfidf,X_test,y_test)"
   ]
  },
  {
   "cell_type": "code",
   "execution_count": null,
   "metadata": {},
   "outputs": [],
   "source": [
    "tn,fne,fp,fn,tne,fp,fn,fne,tp = confusion_matrix()"
   ]
  },
  {
   "cell_type": "code",
   "execution_count": 63,
   "metadata": {},
   "outputs": [],
   "source": [
    "rand_model = RandomForestClassifier()"
   ]
  },
  {
   "cell_type": "code",
   "execution_count": 64,
   "metadata": {},
   "outputs": [],
   "source": [
    "param_grid = {'n_estimators':[100,150,200,300],\n",
    "             'max_depth':[None,2,3,4,6],\n",
    "             }"
   ]
  },
  {
   "cell_type": "code",
   "execution_count": 65,
   "metadata": {},
   "outputs": [],
   "source": [
    "grd_rand = GridSearchCV(rand_model,param_grid=param_grid,cv=3)"
   ]
  },
  {
   "cell_type": "code",
   "execution_count": 66,
   "metadata": {},
   "outputs": [
    {
     "data": {
      "text/plain": [
       "GridSearchCV(cv=3, estimator=RandomForestClassifier(),\n",
       "             param_grid={'max_depth': [None, 2, 3, 4, 6],\n",
       "                         'n_estimators': [100, 150, 200, 300]})"
      ]
     },
     "execution_count": 66,
     "metadata": {},
     "output_type": "execute_result"
    }
   ],
   "source": [
    "grd_rand.fit(X_feat_train,y_train)"
   ]
  },
  {
   "cell_type": "code",
   "execution_count": 67,
   "metadata": {},
   "outputs": [
    {
     "data": {
      "text/plain": [
       "RandomForestClassifier(n_estimators=300)"
      ]
     },
     "execution_count": 67,
     "metadata": {},
     "output_type": "execute_result"
    }
   ],
   "source": [
    "grd_rand.best_estimator_"
   ]
  },
  {
   "cell_type": "code",
   "execution_count": 68,
   "metadata": {},
   "outputs": [
    {
     "data": {
      "text/plain": [
       "{'max_depth': None, 'n_estimators': 300}"
      ]
     },
     "execution_count": 68,
     "metadata": {},
     "output_type": "execute_result"
    }
   ],
   "source": [
    "grd_rand.best_params_"
   ]
  },
  {
   "cell_type": "code",
   "execution_count": 69,
   "metadata": {},
   "outputs": [],
   "source": [
    "prd_grd_rand = grd_rand.predict(X_feat_test)"
   ]
  },
  {
   "cell_type": "code",
   "execution_count": 70,
   "metadata": {},
   "outputs": [
    {
     "name": "stdout",
     "output_type": "stream",
     "text": [
      "Classificaion Report    \n",
      "               precision    recall  f1-score   support\n",
      "\n",
      "    negative       0.83      0.88      0.85      2273\n",
      "     neutral       0.61      0.51      0.55       786\n",
      "    positive       0.70      0.67      0.69       601\n",
      "\n",
      "    accuracy                           0.77      3660\n",
      "   macro avg       0.71      0.69      0.70      3660\n",
      "weighted avg       0.76      0.77      0.76      3660\n",
      "\n"
     ]
    },
    {
     "data": {
      "text/plain": [
       "<sklearn.metrics._plot.confusion_matrix.ConfusionMatrixDisplay at 0x27a2c084d48>"
      ]
     },
     "execution_count": 70,
     "metadata": {},
     "output_type": "execute_result"
    },
    {
     "data": {
      "image/png": "[encoded data removed]",
      "text/plain": [
       "<Figure size 432x288 with 2 Axes>"
      ]
     },
     "metadata": {
      "needs_background": "light"
     },
     "output_type": "display_data"
    }
   ],
   "source": [
    "print('Classificaion Report    \\n',classification_report(y_test,prd_grd_nb))\n",
    "plot_confusion_matrix(grd_nb,X_test,y_test)"
   ]
  },
  {
   "cell_type": "code",
   "execution_count": 76,
   "metadata": {},
   "outputs": [],
   "source": [
    "grad_model = GradientBoostingClassifier()"
   ]
  },
  {
   "cell_type": "code",
   "execution_count": 78,
   "metadata": {},
   "outputs": [],
   "source": [
    "param_grid = {'learning_rate':[.05,.1,.15,.2],\n",
    "             'n_estimators':[150,200,300],\n",
    "             'max_depth' : [2,3,4]}"
   ]
  },
  {
   "cell_type": "code",
   "execution_count": 79,
   "metadata": {},
   "outputs": [],
   "source": [
    "grd_grad = GridSearchCV(grad_model,param_grid=param_grid,cv=3)"
   ]
  },
  {
   "cell_type": "code",
   "execution_count": 80,
   "metadata": {},
   "outputs": [
    {
     "data": {
      "text/plain": [
       "GridSearchCV(cv=3, estimator=GradientBoostingClassifier(),\n",
       "             param_grid={'learning_rate': [0.05, 0.1, 0.15, 0.2],\n",
       "                         'max_depth': [2, 3, 4],\n",
       "                         'n_estimators': [150, 200, 300]})"
      ]
     },
     "execution_count": 80,
     "metadata": {},
     "output_type": "execute_result"
    }
   ],
   "source": [
    "grd_grad.fit(X_feat_train,y_train)"
   ]
  },
  {
   "cell_type": "code",
   "execution_count": 81,
   "metadata": {},
   "outputs": [
    {
     "data": {
      "text/plain": [
       "{'learning_rate': 0.2, 'max_depth': 4, 'n_estimators': 300}"
      ]
     },
     "execution_count": 81,
     "metadata": {},
     "output_type": "execute_result"
    }
   ],
   "source": [
    "grd_grad.best_params_"
   ]
  },
  {
   "cell_type": "code",
   "execution_count": 82,
   "metadata": {},
   "outputs": [],
   "source": [
    "prd_grad = grd_grad.predict(X_feat_test)"
   ]
  },
  {
   "cell_type": "code",
   "execution_count": 110,
   "metadata": {},
   "outputs": [
    {
     "name": "stdout",
     "output_type": "stream",
     "text": [
      "Classificaion Report    \n",
      "               precision    recall  f1-score   support\n",
      "\n",
      "    negative       0.83      0.88      0.85      2273\n",
      "     neutral       0.61      0.51      0.55       786\n",
      "    positive       0.70      0.67      0.69       601\n",
      "\n",
      "    accuracy                           0.77      3660\n",
      "   macro avg       0.71      0.69      0.70      3660\n",
      "weighted avg       0.76      0.77      0.76      3660\n",
      "\n"
     ]
    },
    {
     "data": {
      "text/plain": [
       "<sklearn.metrics._plot.confusion_matrix.ConfusionMatrixDisplay at 0x27a30518388>"
      ]
     },
     "execution_count": 110,
     "metadata": {},
     "output_type": "execute_result"
    },
    {
     "data": {
      "image/png": "[encoded data removed]",
      "text/plain": [
       "<Figure size 432x288 with 2 Axes>"
      ]
     },
     "metadata": {
      "needs_background": "light"
     },
     "output_type": "display_data"
    }
   ],
   "source": [
    "print('Classificaion Report    \\n',classification_report(y_test,prd_grd_nb))\n",
    "plot_confusion_matrix(grd_grad,X_feat_test,y_test)"
   ]
  },
  {
   "cell_type": "code",
   "execution_count": 91,
   "metadata": {},
   "outputs": [
    {
     "data": {
      "text/plain": [
       "0.8844262295081967"
      ]
     },
     "execution_count": 91,
     "metadata": {},
     "output_type": "execute_result"
    }
   ],
   "source": [
    "grd_tr_scr = grd_grad.score(X_feat_train,y_train)\n",
    "grd_tr_scr"
   ]
  },
  {
   "cell_type": "code",
   "execution_count": 90,
   "metadata": {},
   "outputs": [
    {
     "data": {
      "text/plain": [
       "0.7655737704918033"
      ]
     },
     "execution_count": 90,
     "metadata": {},
     "output_type": "execute_result"
    }
   ],
   "source": [
    "grd_ts_scr = grd_grad.score(X_feat_test,y_test)\n",
    "grd_ts_scr"
   ]
  },
  {
   "cell_type": "code",
   "execution_count": 89,
   "metadata": {},
   "outputs": [
    {
     "data": {
      "text/plain": [
       "0.11885245901639341"
      ]
     },
     "execution_count": 89,
     "metadata": {},
     "output_type": "execute_result"
    }
   ],
   "source": [
    "ovr_grad = grd_tr_scr - grd_ts_scr\n",
    "ovr_grad"
   ]
  },
  {
   "cell_type": "code",
   "execution_count": 105,
   "metadata": {},
   "outputs": [],
   "source": [
    "tn,fne,fp,fn,tne,fp,fn,fne,tp = confusion_matrix(y_test,prd_grad).ravel()"
   ]
  },
  {
   "cell_type": "code",
   "execution_count": 113,
   "metadata": {},
   "outputs": [
    {
     "data": {
      "text/plain": [
       "(0.9044544867656552, 0.8351648351648352, 0.632279534109817)"
      ]
     },
     "execution_count": 113,
     "metadata": {},
     "output_type": "execute_result"
    }
   ],
   "source": [
    "Accuracy = (tp + tn+ tne) / (tp + tn + fp + fn+ tne+ fne)\n",
    "Precision = tp / (tp + fp)\n",
    "Recall = tp / (tp + fn+fne)\n",
    "\n",
    "Accuracy, Precision, Recall"
   ]
  },
  {
   "cell_type": "code",
   "execution_count": 111,
   "metadata": {},
   "outputs": [
    {
     "name": "stdout",
     "output_type": "stream",
     "text": [
      "Classificaion Report    \n",
      "               precision    recall  f1-score   support\n",
      "\n",
      "    negative       0.83      0.88      0.85      2273\n",
      "     neutral       0.61      0.51      0.55       786\n",
      "    positive       0.70      0.67      0.69       601\n",
      "\n",
      "    accuracy                           0.77      3660\n",
      "   macro avg       0.71      0.69      0.70      3660\n",
      "weighted avg       0.76      0.77      0.76      3660\n",
      "\n"
     ]
    }
   ],
   "source": [
    "print('Classificaion Report    \\n',classification_report(y_test,prd_grd_nb))"
   ]
  },
  {
   "cell_type": "code",
   "execution_count": 112,
   "metadata": {},
   "outputs": [
    {
     "data": {
      "text/plain": [
       "array([2088,  113,   72,  377,  334,   75,  153,   68,  380], dtype=int64)"
      ]
     },
     "execution_count": 112,
     "metadata": {},
     "output_type": "execute_result"
    }
   ],
   "source": [
    "confusion_matrix(y_test,prd_grad).ravel()"
   ]
  },
  {
   "cell_type": "code",
   "execution_count": null,
   "metadata": {},
   "outputs": [],
   "source": []
  }
 ],
 "metadata": {
  "kernelspec": {
   "display_name": "Python 3",
   "language": "python",
   "name": "python3"
  },
  "language_info": {
   "codemirror_mode": {
    "name": "ipython",
    "version": 3
   },
   "file_extension": ".py",
   "mimetype": "text/x-python",
   "name": "python",
   "nbconvert_exporter": "python",
   "pygments_lexer": "ipython3",
   "version": "3.7.9"
  }
 },
 "nbformat": 4,
 "nbformat_minor": 4
}
