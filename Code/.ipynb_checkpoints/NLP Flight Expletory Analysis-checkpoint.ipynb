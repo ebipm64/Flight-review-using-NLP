{
 "cells": [
  {
   "cell_type": "code",
   "execution_count": 14,
   "metadata": {},
   "outputs": [],
   "source": [
    "import pandas as pd\n",
    "import numpy as np\n",
    "import seaborn as sns  \n",
    "import matplotlib.pyplot as plt\n",
    "import regex\n",
    "import re\n",
    "from nltk.corpus import stopwords\n",
    "from sklearn.feature_extraction.text import CountVectorizer"
   ]
  },
  {
   "cell_type": "code",
   "execution_count": 15,
   "metadata": {},
   "outputs": [],
   "source": [
    "%matplotlib inline"
   ]
  },
  {
   "cell_type": "code",
   "execution_count": 16,
   "metadata": {},
   "outputs": [
    {
     "data": {
      "text/html": [
       "<div>\n",
       "<style scoped>\n",
       "    .dataframe tbody tr th:only-of-type {\n",
       "        vertical-align: middle;\n",
       "    }\n",
       "\n",
       "    .dataframe tbody tr th {\n",
       "        vertical-align: top;\n",
       "    }\n",
       "\n",
       "    .dataframe thead th {\n",
       "        text-align: right;\n",
       "    }\n",
       "</style>\n",
       "<table border=\"1\" class=\"dataframe\">\n",
       "  <thead>\n",
       "    <tr style=\"text-align: right;\">\n",
       "      <th></th>\n",
       "      <th>airline_sentiment</th>\n",
       "      <th>airline_sentiment_confidence</th>\n",
       "      <th>airline</th>\n",
       "      <th>retweet_count</th>\n",
       "      <th>text</th>\n",
       "    </tr>\n",
       "  </thead>\n",
       "  <tbody>\n",
       "    <tr>\n",
       "      <th>0</th>\n",
       "      <td>positive</td>\n",
       "      <td>0.3486</td>\n",
       "      <td>Virgin America</td>\n",
       "      <td>0</td>\n",
       "      <td>@VirginAmerica plus you've added commercials t...</td>\n",
       "    </tr>\n",
       "    <tr>\n",
       "      <th>1</th>\n",
       "      <td>negative</td>\n",
       "      <td>1.0000</td>\n",
       "      <td>Virgin America</td>\n",
       "      <td>0</td>\n",
       "      <td>@VirginAmerica it's really aggressive to blast...</td>\n",
       "    </tr>\n",
       "    <tr>\n",
       "      <th>2</th>\n",
       "      <td>negative</td>\n",
       "      <td>1.0000</td>\n",
       "      <td>Virgin America</td>\n",
       "      <td>0</td>\n",
       "      <td>@VirginAmerica and it's a really big bad thing...</td>\n",
       "    </tr>\n",
       "    <tr>\n",
       "      <th>3</th>\n",
       "      <td>negative</td>\n",
       "      <td>1.0000</td>\n",
       "      <td>Virgin America</td>\n",
       "      <td>0</td>\n",
       "      <td>@VirginAmerica seriously would pay $30 a fligh...</td>\n",
       "    </tr>\n",
       "    <tr>\n",
       "      <th>4</th>\n",
       "      <td>positive</td>\n",
       "      <td>0.6745</td>\n",
       "      <td>Virgin America</td>\n",
       "      <td>0</td>\n",
       "      <td>@VirginAmerica yes, nearly every time I fly VX...</td>\n",
       "    </tr>\n",
       "  </tbody>\n",
       "</table>\n",
       "</div>"
      ],
      "text/plain": [
       "  airline_sentiment  airline_sentiment_confidence         airline  \\\n",
       "0          positive                        0.3486  Virgin America   \n",
       "1          negative                        1.0000  Virgin America   \n",
       "2          negative                        1.0000  Virgin America   \n",
       "3          negative                        1.0000  Virgin America   \n",
       "4          positive                        0.6745  Virgin America   \n",
       "\n",
       "   retweet_count                                               text  \n",
       "0              0  @VirginAmerica plus you've added commercials t...  \n",
       "1              0  @VirginAmerica it's really aggressive to blast...  \n",
       "2              0  @VirginAmerica and it's a really big bad thing...  \n",
       "3              0  @VirginAmerica seriously would pay $30 a fligh...  \n",
       "4              0  @VirginAmerica yes, nearly every time I fly VX...  "
      ]
     },
     "execution_count": 16,
     "metadata": {},
     "output_type": "execute_result"
    }
   ],
   "source": [
    "# uploading the cleaned dataset\n",
    "df = pd.read_csv('../Data/df_cleaned')\n",
    "df.head(5)"
   ]
  },
  {
   "cell_type": "code",
   "execution_count": 17,
   "metadata": {},
   "outputs": [],
   "source": [
    "# convert the lables type from object to the class type\n",
    "def con_label(item):\n",
    "    if item == 'positive':\n",
    "        return 1\n",
    "    else:\n",
    "        return 0"
   ]
  },
  {
   "cell_type": "code",
   "execution_count": 18,
   "metadata": {},
   "outputs": [],
   "source": [
    "# Apply the function on the df labels\n",
    "df['air_target'] = np.vectorize(con_label)(df['airline_sentiment'])"
   ]
  },
  {
   "cell_type": "code",
   "execution_count": 19,
   "metadata": {},
   "outputs": [
    {
     "data": {
      "text/plain": [
       "array([1, 0])"
      ]
     },
     "execution_count": 19,
     "metadata": {},
     "output_type": "execute_result"
    }
   ],
   "source": [
    "df['air_target'].unique()"
   ]
  },
  {
   "cell_type": "code",
   "execution_count": 20,
   "metadata": {},
   "outputs": [],
   "source": [
    "# Drop the old lables\n",
    "df = df.drop('airline_sentiment',axis=1)"
   ]
  },
  {
   "cell_type": "code",
   "execution_count": 21,
   "metadata": {},
   "outputs": [],
   "source": [
    "air_count = df['airline'].value_counts()"
   ]
  },
  {
   "cell_type": "code",
   "execution_count": 22,
   "metadata": {},
   "outputs": [
    {
     "data": {
      "image/png": "[encoded data removed]",
      "text/plain": [
       "<Figure size 960x480 with 1 Axes>"
      ]
     },
     "metadata": {
      "needs_background": "light"
     },
     "output_type": "display_data"
    }
   ],
   "source": [
    "plt.figure(figsize=(12,6),dpi=80)\n",
    "sns.barplot(x = air_count.index,y=air_count)\n",
    "plt.xlabel('air_line')\n",
    "plt.ylabel('count');\n",
    "plt.savefig('../Figure/air_vs_count.png')"
   ]
  },
  {
   "cell_type": "code",
   "execution_count": 23,
   "metadata": {},
   "outputs": [
    {
     "data": {
      "image/png": "[encoded data removed]",
      "text/plain": [
       "<Figure size 864x432 with 2 Axes>"
      ]
     },
     "metadata": {
      "needs_background": "light"
     },
     "output_type": "display_data"
    }
   ],
   "source": [
    "sns.catplot(x='airline',data=df,col='air_target',kind=\"count\",height=6)\n",
    "plt.savefig('../Figure/air_vs_target.png')"
   ]
  },
  {
   "cell_type": "code",
   "execution_count": 24,
   "metadata": {},
   "outputs": [
    {
     "data": {
      "image/png": "[encoded data removed]",
      "text/plain": [
       "<Figure size 720x360 with 2 Axes>"
      ]
     },
     "metadata": {
      "needs_background": "light"
     },
     "output_type": "display_data"
    }
   ],
   "source": [
    "sns.displot(x='airline_sentiment_confidence',data=df,bins=25,col='air_target',height=5)\n",
    "plt.savefig('../Figure/air_sentiment_confidence_vs_target.png')"
   ]
  },
  {
   "cell_type": "markdown",
   "metadata": {},
   "source": [
    "# Text cleaning"
   ]
  },
  {
   "cell_type": "code",
   "execution_count": 25,
   "metadata": {},
   "outputs": [],
   "source": [
    "def text_clean(text):\n",
    "    # Romiving punctioation\n",
    "    rem_punc = re.sub(\"[^-9A-za-z ]\",\" \",text)\n",
    "    # Removing white spaces\n",
    "    rem_space = re.sub(' +',' ',rem_punc)\n",
    "    rem_space = ''.join(rem_space)\n",
    "    # Removing stop words\n",
    "    rem_stppword = [word for word in rem_space.lower().split() if word not in stopwords.words('english')]\n",
    "    rem_stppword = \" \".join(rem_stppword)\n",
    "    return rem_stppword"
   ]
  },
  {
   "cell_type": "code",
   "execution_count": 26,
   "metadata": {},
   "outputs": [],
   "source": [
    "# Applying the clean_text function on \"text\" coulmn\n",
    "df['text'] = np.vectorize(text_clean)(df['text'])"
   ]
  },
  {
   "cell_type": "code",
   "execution_count": 27,
   "metadata": {},
   "outputs": [
    {
     "data": {
      "text/html": [
       "<div>\n",
       "<style scoped>\n",
       "    .dataframe tbody tr th:only-of-type {\n",
       "        vertical-align: middle;\n",
       "    }\n",
       "\n",
       "    .dataframe tbody tr th {\n",
       "        vertical-align: top;\n",
       "    }\n",
       "\n",
       "    .dataframe thead th {\n",
       "        text-align: right;\n",
       "    }\n",
       "</style>\n",
       "<table border=\"1\" class=\"dataframe\">\n",
       "  <thead>\n",
       "    <tr style=\"text-align: right;\">\n",
       "      <th></th>\n",
       "      <th>airline_sentiment_confidence</th>\n",
       "      <th>airline</th>\n",
       "      <th>retweet_count</th>\n",
       "      <th>text</th>\n",
       "      <th>air_target</th>\n",
       "    </tr>\n",
       "  </thead>\n",
       "  <tbody>\n",
       "    <tr>\n",
       "      <th>0</th>\n",
       "      <td>0.3486</td>\n",
       "      <td>Virgin America</td>\n",
       "      <td>0</td>\n",
       "      <td>virginamerica plus added commercials experienc...</td>\n",
       "      <td>1</td>\n",
       "    </tr>\n",
       "    <tr>\n",
       "      <th>1</th>\n",
       "      <td>1.0000</td>\n",
       "      <td>Virgin America</td>\n",
       "      <td>0</td>\n",
       "      <td>virginamerica really aggressive blast obnoxiou...</td>\n",
       "      <td>0</td>\n",
       "    </tr>\n",
       "    <tr>\n",
       "      <th>2</th>\n",
       "      <td>1.0000</td>\n",
       "      <td>Virgin America</td>\n",
       "      <td>0</td>\n",
       "      <td>virginamerica really big bad thing</td>\n",
       "      <td>0</td>\n",
       "    </tr>\n",
       "    <tr>\n",
       "      <th>3</th>\n",
       "      <td>1.0000</td>\n",
       "      <td>Virgin America</td>\n",
       "      <td>0</td>\n",
       "      <td>virginamerica seriously would pay flight seats...</td>\n",
       "      <td>0</td>\n",
       "    </tr>\n",
       "    <tr>\n",
       "      <th>4</th>\n",
       "      <td>0.6745</td>\n",
       "      <td>Virgin America</td>\n",
       "      <td>0</td>\n",
       "      <td>virginamerica yes nearly every time fly vx ear...</td>\n",
       "      <td>1</td>\n",
       "    </tr>\n",
       "  </tbody>\n",
       "</table>\n",
       "</div>"
      ],
      "text/plain": [
       "   airline_sentiment_confidence         airline  retweet_count  \\\n",
       "0                        0.3486  Virgin America              0   \n",
       "1                        1.0000  Virgin America              0   \n",
       "2                        1.0000  Virgin America              0   \n",
       "3                        1.0000  Virgin America              0   \n",
       "4                        0.6745  Virgin America              0   \n",
       "\n",
       "                                                text  air_target  \n",
       "0  virginamerica plus added commercials experienc...           1  \n",
       "1  virginamerica really aggressive blast obnoxiou...           0  \n",
       "2                 virginamerica really big bad thing           0  \n",
       "3  virginamerica seriously would pay flight seats...           0  \n",
       "4  virginamerica yes nearly every time fly vx ear...           1  "
      ]
     },
     "execution_count": 27,
     "metadata": {},
     "output_type": "execute_result"
    }
   ],
   "source": [
    "df.head(5)"
   ]
  },
  {
   "cell_type": "code",
   "execution_count": 28,
   "metadata": {},
   "outputs": [
    {
     "data": {
      "text/html": [
       "<div>\n",
       "<style scoped>\n",
       "    .dataframe tbody tr th:only-of-type {\n",
       "        vertical-align: middle;\n",
       "    }\n",
       "\n",
       "    .dataframe tbody tr th {\n",
       "        vertical-align: top;\n",
       "    }\n",
       "\n",
       "    .dataframe thead th {\n",
       "        text-align: right;\n",
       "    }\n",
       "</style>\n",
       "<table border=\"1\" class=\"dataframe\">\n",
       "  <thead>\n",
       "    <tr style=\"text-align: right;\">\n",
       "      <th></th>\n",
       "      <th>airline_sentiment_confidence</th>\n",
       "      <th>airline</th>\n",
       "      <th>retweet_count</th>\n",
       "      <th>text</th>\n",
       "      <th>air_target</th>\n",
       "      <th>word_count</th>\n",
       "    </tr>\n",
       "  </thead>\n",
       "  <tbody>\n",
       "    <tr>\n",
       "      <th>0</th>\n",
       "      <td>0.3486</td>\n",
       "      <td>Virgin America</td>\n",
       "      <td>0</td>\n",
       "      <td>virginamerica plus added commercials experienc...</td>\n",
       "      <td>1</td>\n",
       "      <td>6</td>\n",
       "    </tr>\n",
       "    <tr>\n",
       "      <th>1</th>\n",
       "      <td>1.0000</td>\n",
       "      <td>Virgin America</td>\n",
       "      <td>0</td>\n",
       "      <td>virginamerica really aggressive blast obnoxiou...</td>\n",
       "      <td>0</td>\n",
       "      <td>11</td>\n",
       "    </tr>\n",
       "  </tbody>\n",
       "</table>\n",
       "</div>"
      ],
      "text/plain": [
       "   airline_sentiment_confidence         airline  retweet_count  \\\n",
       "0                        0.3486  Virgin America              0   \n",
       "1                        1.0000  Virgin America              0   \n",
       "\n",
       "                                                text  air_target  word_count  \n",
       "0  virginamerica plus added commercials experienc...           1           6  \n",
       "1  virginamerica really aggressive blast obnoxiou...           0          11  "
      ]
     },
     "execution_count": 28,
     "metadata": {},
     "output_type": "execute_result"
    }
   ],
   "source": [
    "# Counting the numbers of the words in the \"text\" column\n",
    "df['word_count'] = df['text'].apply(lambda x:len(x.split()))\n",
    "df.head(2)"
   ]
  },
  {
   "cell_type": "code",
   "execution_count": 31,
   "metadata": {},
   "outputs": [
    {
     "data": {
      "text/plain": [
       "0         53\n",
       "1         94\n",
       "2         34\n",
       "3         81\n",
       "4         59\n",
       "        ... \n",
       "11536    117\n",
       "11537     28\n",
       "11538     46\n",
       "11539    109\n",
       "11540     73\n",
       "Name: text_length, Length: 11541, dtype: int64"
      ]
     },
     "execution_count": 31,
     "metadata": {},
     "output_type": "execute_result"
    }
   ],
   "source": [
    "# Counting the 'text' length\n",
    "df['text_length'] = df['text'].apply(lambda i:len(i))\n",
    "df['text_length']"
   ]
  },
  {
   "cell_type": "code",
   "execution_count": 54,
   "metadata": {},
   "outputs": [
    {
     "data": {
      "image/png": "[encoded data removed]",
      "text/plain": [
       "<Figure size 800x480 with 1 Axes>"
      ]
     },
     "metadata": {
      "needs_background": "light"
     },
     "output_type": "display_data"
    }
   ],
   "source": [
    "# Text length distribution based on the label\n",
    "plt.figure(figsize=(10,6),dpi=80)\n",
    "sns.histplot(x='text_length',data=df,hue='air_target',multiple=\"dodge\",alpha=0.5,)\n",
    "plt.savefig('../Figure/text_length_vs_target.png')"
   ]
  },
  {
   "cell_type": "code",
   "execution_count": 57,
   "metadata": {},
   "outputs": [
    {
     "data": {
      "image/png": "[encoded data removed]",
      "text/plain": [
       "<Figure size 576x288 with 2 Axes>"
      ]
     },
     "metadata": {
      "needs_background": "light"
     },
     "output_type": "display_data"
    }
   ],
   "source": [
    "#Check the correlation between the features and taregt\n",
    "plt.figure(figsize=(8,4))\n",
    "sns.heatmap(df.corr())\n",
    "plt.savefig('../Figure/heatmap.png')"
   ]
  },
  {
   "cell_type": "code",
   "execution_count": 58,
   "metadata": {},
   "outputs": [
    {
     "data": {
      "text/plain": [
       "retweet_count                  -0.012603\n",
       "airline_sentiment_confidence   -0.165447\n",
       "text_length                    -0.243933\n",
       "word_count                     -0.244414\n",
       "Name: air_target, dtype: float64"
      ]
     },
     "execution_count": 58,
     "metadata": {},
     "output_type": "execute_result"
    }
   ],
   "source": [
    "# Check out the correlation between features vs label\n",
    "df_corr = df.corr()['air_target'].sort_values(ascending=False)[1:]\n",
    "df_corr"
   ]
  },
  {
   "cell_type": "code",
   "execution_count": 59,
   "metadata": {},
   "outputs": [
    {
     "data": {
      "image/png": "[encoded data removed]",
      "text/plain": [
       "<Figure size 864x288 with 1 Axes>"
      ]
     },
     "metadata": {
      "needs_background": "light"
     },
     "output_type": "display_data"
    }
   ],
   "source": [
    "plt.figure(figsize=(12,4))\n",
    "sns.barplot(x=df_corr.index,y=df_corr.values)\n",
    "plt.xticks(rotation=90);\n",
    "plt.savefig('../Figure/correlation.png')"
   ]
  },
  {
   "cell_type": "markdown",
   "metadata": {},
   "source": [
    "# Count vectorizer"
   ]
  },
  {
   "cell_type": "markdown",
   "metadata": {},
   "source": [
    "Check the most frequent words base on the labels using Count_vecrotizer"
   ]
  },
  {
   "cell_type": "code",
   "execution_count": 124,
   "metadata": {},
   "outputs": [],
   "source": [
    "# create count_vectorizer\n",
    "cv = CountVectorizer()"
   ]
  },
  {
   "cell_type": "code",
   "execution_count": 126,
   "metadata": {},
   "outputs": [
    {
     "name": "stdout",
     "output_type": "stream",
     "text": [
      "Top 20 words used for Positive reviews.\n",
      "[('thanks', 611), ('jetblue', 595), ('southwestair', 576), ('united', 528), ('thank', 455), ('flight', 381), ('americanair', 355), ('usairways', 276), ('great', 236), ('co', 233), ('http', 217), ('service', 162), ('virginamerica', 156), ('love', 136), ('customer', 114), ('get', 114), ('guys', 110), ('good', 109), ('much', 109), ('best', 105)]\n"
     ]
    }
   ],
   "source": [
    "# Select the text rows with only air_target ==1\n",
    "matrix = cv.fit_transform(df[df['air_target']==1]['text'])\n",
    "# get the features name and count them and create the tuple using the Zip function\n",
    "freqs = zip(cv.get_feature_names(), matrix.sum(axis=0).tolist()[0])    \n",
    "# sort from largest to smallest 20 yop words\n",
    "print(\"Top 20 words used for Positive reviews.\")\n",
    "print(sorted(freqs, key=lambda x: -x[1])[:20])"
   ]
  },
  {
   "cell_type": "markdown",
   "metadata": {},
   "source": [
    "Plot top_20_words in label 1"
   ]
  },
  {
   "cell_type": "code",
   "execution_count": 128,
   "metadata": {},
   "outputs": [
    {
     "data": {
      "text/plain": [
       "[('thanks', 611),\n",
       " ('jetblue', 595),\n",
       " ('southwestair', 576),\n",
       " ('united', 528),\n",
       " ('thank', 455),\n",
       " ('flight', 381),\n",
       " ('americanair', 355),\n",
       " ('usairways', 276),\n",
       " ('great', 236),\n",
       " ('co', 233),\n",
       " ('http', 217),\n",
       " ('service', 162),\n",
       " ('virginamerica', 156),\n",
       " ('love', 136),\n",
       " ('customer', 114),\n",
       " ('get', 114),\n",
       " ('guys', 110),\n",
       " ('good', 109),\n",
       " ('much', 109),\n",
       " ('best', 105)]"
      ]
     },
     "execution_count": 128,
     "metadata": {},
     "output_type": "execute_result"
    }
   ],
   "source": [
    "freqs = zip(cv.get_feature_names(), matrix.sum(axis=0).tolist()[0])    \n",
    "target_1_top20 = sorted(freqs, key=lambda x: -x[1])[:20]\n",
    "target_1_top20"
   ]
  },
  {
   "cell_type": "code",
   "execution_count": 132,
   "metadata": {},
   "outputs": [],
   "source": [
    "# get first and second element from tuple\n",
    "first_tuple_elements = [a_tuple[0] for a_tuple in target_1_top20]\n",
    "second_tuple_elements = [a_tuple[1] for a_tuple in target_1_top20]"
   ]
  },
  {
   "cell_type": "code",
   "execution_count": 138,
   "metadata": {},
   "outputs": [
    {
     "data": {
      "image/png": "[encoded data removed]",
      "text/plain": [
       "<Figure size 1200x800 with 1 Axes>"
      ]
     },
     "metadata": {
      "needs_background": "light"
     },
     "output_type": "display_data"
    }
   ],
   "source": [
    "# plot the top 20 word in the label 1\n",
    "plt.figure(figsize=(12,8),dpi=100)\n",
    "sns.barplot(x=second_tuple_elements,y=first_tuple_elements)\n",
    "plt.xlabel('Count')\n",
    "plt.title('target_1_top20 word')\n",
    "plt.savefig('../Figure/target_1_top20 words.png')"
   ]
  },
  {
   "cell_type": "code",
   "execution_count": 139,
   "metadata": {},
   "outputs": [
    {
     "name": "stdout",
     "output_type": "stream",
     "text": [
      "Top 20 words used for Negative reviews.\n",
      "[('flight', 2958), ('united', 2900), ('usairways', 2375), ('americanair', 2110), ('southwestair', 1214), ('jetblue', 1053), ('get', 990), ('cancelled', 926), ('service', 750), ('hours', 659), ('help', 619), ('customer', 614), ('hold', 614), ('time', 599), ('plane', 532), ('delayed', 508), ('amp', 503), ('us', 502), ('still', 492), ('call', 462)]\n"
     ]
    }
   ],
   "source": [
    "# top 20 words in the lable 0\n",
    "matrix = cv.fit_transform(df[df['air_target']== 0]['text'])\n",
    "freqs = zip(cv.get_feature_names(), matrix.sum(axis=0).tolist()[0])    \n",
    "# sort from largest to smallest\n",
    "print(\"Top 20 words used for Negative reviews.\")\n",
    "print(sorted(freqs, key=lambda x: -x[1])[:20])"
   ]
  },
  {
   "cell_type": "code",
   "execution_count": 141,
   "metadata": {},
   "outputs": [],
   "source": [
    "freqs = zip(cv.get_feature_names(), matrix.sum(axis=0).tolist()[0])\n",
    "target_0_top20 = sorted(freqs, key=lambda x: -x[1])[:20]"
   ]
  },
  {
   "cell_type": "code",
   "execution_count": 142,
   "metadata": {},
   "outputs": [],
   "source": [
    "# get first and second element from tuple\n",
    "first_tuple_elements_0 = [a_tuple[0] for a_tuple in target_1_top20]\n",
    "second_tuple_elements_0 = [a_tuple[1] for a_tuple in target_1_top20]"
   ]
  },
  {
   "cell_type": "code",
   "execution_count": 147,
   "metadata": {},
   "outputs": [
    {
     "data": {
      "image/png": "[encoded data removed]",
      "text/plain": [
       "<Figure size 1200x800 with 1 Axes>"
      ]
     },
     "metadata": {
      "needs_background": "light"
     },
     "output_type": "display_data"
    }
   ],
   "source": [
    "plt.figure(figsize=(12,8),dpi=100)\n",
    "sns.barplot(x=second_tuple_elements,y=first_tuple_elements)\n",
    "plt.xlabel('Count')\n",
    "plt.title('target_0_top20 word')\n",
    "plt.savefig('../Figure/target_0_top20 words.png')"
   ]
  },
  {
   "cell_type": "code",
   "execution_count": 148,
   "metadata": {},
   "outputs": [],
   "source": [
    "# Save dateset\n",
    "df.to_csv('../Data/df_final',index=False)"
   ]
  },
  {
   "cell_type": "code",
   "execution_count": null,
   "metadata": {},
   "outputs": [],
   "source": []
  }
 ],
 "metadata": {
  "kernelspec": {
   "display_name": "Python 3",
   "language": "python",
   "name": "python3"
  },
  "language_info": {
   "codemirror_mode": {
    "name": "ipython",
    "version": 3
   },
   "file_extension": ".py",
   "mimetype": "text/x-python",
   "name": "python",
   "nbconvert_exporter": "python",
   "pygments_lexer": "ipython3",
   "version": "3.8.11"
  }
 },
 "nbformat": 4,
 "nbformat_minor": 4
}
