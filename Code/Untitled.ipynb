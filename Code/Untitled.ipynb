{
 "cells": [
  {
   "cell_type": "code",
   "execution_count": 1,
   "metadata": {},
   "outputs": [],
   "source": [
    "import numpy as np\n",
    "import pandas as pd\n",
    "import seaborn as sns\n",
    "import matplotlib.pyplot as plt\n",
    "from sklearn.feature_extraction.text import CountVectorizer, TfidfVectorizer\n",
    "from sklearn.linear_model import LogisticRegression\n",
    "from sklearn.naive_bayes import MultinomialNB\n",
    "from sklearn.svm import SVC,LinearSVC\n",
    "from sklearn.ensemble import RandomForestClassifier, ExtraTreesClassifier\n",
    "from sklearn.ensemble import GradientBoostingClassifier, AdaBoostClassifier, VotingClassifier\n",
    "import pickle\n",
    "from sklearn.model_selection import train_test_split\n",
    "from sklearn.model_selection import GridSearchCV\n",
    "from sklearn.pipeline import Pipeline\n",
    "from sklearn.metrics import classification_report,plot_confusion_matrix,accuracy_score,confusion_matrix\n",
    "from sklearn.utils import resample"
   ]
  },
  {
   "cell_type": "code",
   "execution_count": 2,
   "metadata": {},
   "outputs": [
    {
     "data": {
      "text/html": [
       "<div>\n",
       "<style scoped>\n",
       "    .dataframe tbody tr th:only-of-type {\n",
       "        vertical-align: middle;\n",
       "    }\n",
       "\n",
       "    .dataframe tbody tr th {\n",
       "        vertical-align: top;\n",
       "    }\n",
       "\n",
       "    .dataframe thead th {\n",
       "        text-align: right;\n",
       "    }\n",
       "</style>\n",
       "<table border=\"1\" class=\"dataframe\">\n",
       "  <thead>\n",
       "    <tr style=\"text-align: right;\">\n",
       "      <th></th>\n",
       "      <th>airline</th>\n",
       "      <th>retweet_count</th>\n",
       "      <th>text</th>\n",
       "      <th>tweet_created</th>\n",
       "      <th>word_count</th>\n",
       "      <th>airline_sentiment</th>\n",
       "      <th>air_target</th>\n",
       "    </tr>\n",
       "  </thead>\n",
       "  <tbody>\n",
       "    <tr>\n",
       "      <th>0</th>\n",
       "      <td>Virgin America</td>\n",
       "      <td>0</td>\n",
       "      <td>virginamerica dhepburn said</td>\n",
       "      <td>2015-02-24 11:35:52 -0800</td>\n",
       "      <td>3</td>\n",
       "      <td>neutral</td>\n",
       "      <td>0</td>\n",
       "    </tr>\n",
       "    <tr>\n",
       "      <th>1</th>\n",
       "      <td>Virgin America</td>\n",
       "      <td>0</td>\n",
       "      <td>virginamerica plus added commercials experienc...</td>\n",
       "      <td>2015-02-24 11:15:59 -0800</td>\n",
       "      <td>6</td>\n",
       "      <td>positive</td>\n",
       "      <td>1</td>\n",
       "    </tr>\n",
       "    <tr>\n",
       "      <th>2</th>\n",
       "      <td>Virgin America</td>\n",
       "      <td>0</td>\n",
       "      <td>virginamerica today must mean need take anothe...</td>\n",
       "      <td>2015-02-24 11:15:48 -0800</td>\n",
       "      <td>8</td>\n",
       "      <td>neutral</td>\n",
       "      <td>0</td>\n",
       "    </tr>\n",
       "    <tr>\n",
       "      <th>3</th>\n",
       "      <td>Virgin America</td>\n",
       "      <td>0</td>\n",
       "      <td>virginamerica really aggressive blast obnoxiou...</td>\n",
       "      <td>2015-02-24 11:15:36 -0800</td>\n",
       "      <td>11</td>\n",
       "      <td>negative</td>\n",
       "      <td>-1</td>\n",
       "    </tr>\n",
       "    <tr>\n",
       "      <th>4</th>\n",
       "      <td>Virgin America</td>\n",
       "      <td>0</td>\n",
       "      <td>virginamerica really big bad thing</td>\n",
       "      <td>2015-02-24 11:14:45 -0800</td>\n",
       "      <td>5</td>\n",
       "      <td>negative</td>\n",
       "      <td>-1</td>\n",
       "    </tr>\n",
       "  </tbody>\n",
       "</table>\n",
       "</div>"
      ],
      "text/plain": [
       "          airline  retweet_count  \\\n",
       "0  Virgin America              0   \n",
       "1  Virgin America              0   \n",
       "2  Virgin America              0   \n",
       "3  Virgin America              0   \n",
       "4  Virgin America              0   \n",
       "\n",
       "                                                text  \\\n",
       "0                        virginamerica dhepburn said   \n",
       "1  virginamerica plus added commercials experienc...   \n",
       "2  virginamerica today must mean need take anothe...   \n",
       "3  virginamerica really aggressive blast obnoxiou...   \n",
       "4                 virginamerica really big bad thing   \n",
       "\n",
       "               tweet_created  word_count airline_sentiment  air_target  \n",
       "0  2015-02-24 11:35:52 -0800           3           neutral           0  \n",
       "1  2015-02-24 11:15:59 -0800           6          positive           1  \n",
       "2  2015-02-24 11:15:48 -0800           8           neutral           0  \n",
       "3  2015-02-24 11:15:36 -0800          11          negative          -1  \n",
       "4  2015-02-24 11:14:45 -0800           5          negative          -1  "
      ]
     },
     "execution_count": 2,
     "metadata": {},
     "output_type": "execute_result"
    }
   ],
   "source": [
    "df = pickle.load(open('../Data/df_pre_model', 'rb'))\n",
    "df.head()"
   ]
  },
  {
   "cell_type": "code",
   "execution_count": 3,
   "metadata": {},
   "outputs": [
    {
     "data": {
      "text/plain": [
       "negative    9178\n",
       "neutral     3099\n",
       "positive    2363\n",
       "Name: airline_sentiment, dtype: int64"
      ]
     },
     "execution_count": 3,
     "metadata": {},
     "output_type": "execute_result"
    }
   ],
   "source": [
    "df['airline_sentiment'].value_counts()\n",
    "# The dataset is not balance"
   ]
  },
  {
   "cell_type": "code",
   "execution_count": 4,
   "metadata": {},
   "outputs": [],
   "source": [
    "df_neg = df[df['airline_sentiment']=='negative']\n",
    "df_pos = df[df['airline_sentiment']=='positive']\n",
    "df_neu = df[df['airline_sentiment']=='neutral']"
   ]
  },
  {
   "cell_type": "code",
   "execution_count": 5,
   "metadata": {},
   "outputs": [],
   "source": [
    "# Generate data set for positive and nuetral data set\n",
    "df_pos_resm = resample(df_pos,n_samples=9178,replace=True,random_state=101)\n",
    "df_neu_resm = resample(df_neu,n_samples=9178,replace=True,random_state=101)"
   ]
  },
  {
   "cell_type": "code",
   "execution_count": 6,
   "metadata": {},
   "outputs": [],
   "source": [
    "df_resample = pd.concat([df_pos_resm,df_neu_resm,df_neg])"
   ]
  },
  {
   "cell_type": "code",
   "execution_count": 7,
   "metadata": {},
   "outputs": [],
   "source": [
    "cv = CountVectorizer()"
   ]
  },
  {
   "cell_type": "code",
   "execution_count": 10,
   "metadata": {},
   "outputs": [
    {
     "data": {
      "text/plain": [
       "<14640x13578 sparse matrix of type '<class 'numpy.int64'>'\n",
       "\twith 142839 stored elements in Compressed Sparse Row format>"
      ]
     },
     "execution_count": 10,
     "metadata": {},
     "output_type": "execute_result"
    }
   ],
   "source": [
    "cv.fit_transform(df['text'])"
   ]
  },
  {
   "cell_type": "code",
   "execution_count": 15,
   "metadata": {},
   "outputs": [
    {
     "data": {
      "text/html": [
       "<div>\n",
       "<style scoped>\n",
       "    .dataframe tbody tr th:only-of-type {\n",
       "        vertical-align: middle;\n",
       "    }\n",
       "\n",
       "    .dataframe tbody tr th {\n",
       "        vertical-align: top;\n",
       "    }\n",
       "\n",
       "    .dataframe thead th {\n",
       "        text-align: right;\n",
       "    }\n",
       "</style>\n",
       "<table border=\"1\" class=\"dataframe\">\n",
       "  <thead>\n",
       "    <tr style=\"text-align: right;\">\n",
       "      <th></th>\n",
       "      <th>0</th>\n",
       "    </tr>\n",
       "  </thead>\n",
       "  <tbody>\n",
       "    <tr>\n",
       "      <th>0</th>\n",
       "      <td>(0, 12707)\\t1\\n  (0, 3089)\\t1\\n  (0, 10180)\\t1</td>\n",
       "    </tr>\n",
       "    <tr>\n",
       "      <th>1</th>\n",
       "      <td>(0, 12707)\\t1\\n  (0, 8909)\\t1\\n  (0, 220)\\t1...</td>\n",
       "    </tr>\n",
       "    <tr>\n",
       "      <th>2</th>\n",
       "      <td>(0, 12707)\\t1\\n  (0, 11885)\\t1\\n  (0, 7694)\\...</td>\n",
       "    </tr>\n",
       "    <tr>\n",
       "      <th>3</th>\n",
       "      <td>(0, 12707)\\t1\\n  (0, 9534)\\t1\\n  (0, 308)\\t1...</td>\n",
       "    </tr>\n",
       "    <tr>\n",
       "      <th>4</th>\n",
       "      <td>(0, 12707)\\t1\\n  (0, 9534)\\t1\\n  (0, 1242)\\t...</td>\n",
       "    </tr>\n",
       "    <tr>\n",
       "      <th>...</th>\n",
       "      <td>...</td>\n",
       "    </tr>\n",
       "    <tr>\n",
       "      <th>14635</th>\n",
       "      <td>(0, 4309)\\t1\\n  (0, 3120)\\t1\\n  (0, 11644)\\t...</td>\n",
       "    </tr>\n",
       "    <tr>\n",
       "      <th>14636</th>\n",
       "      <td>(0, 4309)\\t2\\n  (0, 1710)\\t1\\n  (0, 6670)\\t1...</td>\n",
       "    </tr>\n",
       "    <tr>\n",
       "      <th>14637</th>\n",
       "      <td>(0, 8881)\\t1\\n  (0, 359)\\t1\\n  (0, 1510)\\t1\\...</td>\n",
       "    </tr>\n",
       "    <tr>\n",
       "      <th>14638</th>\n",
       "      <td>(0, 4309)\\t1\\n  (0, 1932)\\t1\\n  (0, 595)\\t1\\...</td>\n",
       "    </tr>\n",
       "    <tr>\n",
       "      <th>14639</th>\n",
       "      <td>(0, 7812)\\t1\\n  (0, 4309)\\t2\\n  (0, 10370)\\t...</td>\n",
       "    </tr>\n",
       "  </tbody>\n",
       "</table>\n",
       "<p>14640 rows × 1 columns</p>\n",
       "</div>"
      ],
      "text/plain": [
       "                                                       0\n",
       "0         (0, 12707)\\t1\\n  (0, 3089)\\t1\\n  (0, 10180)\\t1\n",
       "1        (0, 12707)\\t1\\n  (0, 8909)\\t1\\n  (0, 220)\\t1...\n",
       "2        (0, 12707)\\t1\\n  (0, 11885)\\t1\\n  (0, 7694)\\...\n",
       "3        (0, 12707)\\t1\\n  (0, 9534)\\t1\\n  (0, 308)\\t1...\n",
       "4        (0, 12707)\\t1\\n  (0, 9534)\\t1\\n  (0, 1242)\\t...\n",
       "...                                                  ...\n",
       "14635    (0, 4309)\\t1\\n  (0, 3120)\\t1\\n  (0, 11644)\\t...\n",
       "14636    (0, 4309)\\t2\\n  (0, 1710)\\t1\\n  (0, 6670)\\t1...\n",
       "14637    (0, 8881)\\t1\\n  (0, 359)\\t1\\n  (0, 1510)\\t1\\...\n",
       "14638    (0, 4309)\\t1\\n  (0, 1932)\\t1\\n  (0, 595)\\t1\\...\n",
       "14639    (0, 7812)\\t1\\n  (0, 4309)\\t2\\n  (0, 10370)\\t...\n",
       "\n",
       "[14640 rows x 1 columns]"
      ]
     },
     "execution_count": 15,
     "metadata": {},
     "output_type": "execute_result"
    }
   ],
   "source": [
    "pd.DataFrame(cv.fit_transform(df['text']))"
   ]
  },
  {
   "cell_type": "code",
   "execution_count": null,
   "metadata": {},
   "outputs": [],
   "source": []
  }
 ],
 "metadata": {
  "kernelspec": {
   "display_name": "Python 3",
   "language": "python",
   "name": "python3"
  },
  "language_info": {
   "codemirror_mode": {
    "name": "ipython",
    "version": 3
   },
   "file_extension": ".py",
   "mimetype": "text/x-python",
   "name": "python",
   "nbconvert_exporter": "python",
   "pygments_lexer": "ipython3",
   "version": "3.7.9"
  }
 },
 "nbformat": 4,
 "nbformat_minor": 4
}
